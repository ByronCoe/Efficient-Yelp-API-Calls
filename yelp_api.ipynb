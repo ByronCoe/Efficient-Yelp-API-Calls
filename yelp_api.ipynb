{
 "cells": [
  {
   "cell_type": "code",
   "execution_count": 1,
   "id": "cdbefc24-1607-4a42-ae06-064232599d83",
   "metadata": {},
   "outputs": [
    {
     "name": "stdout",
     "output_type": "stream",
     "text": [
      "Requirement already satisfied: tqdm in c:\\users\\om88920\\appdata\\local\\anaconda3\\envs\\dojo-env\\lib\\site-packages (4.65.0)\n",
      "Requirement already satisfied: colorama in c:\\users\\om88920\\appdata\\local\\anaconda3\\envs\\dojo-env\\lib\\site-packages (from tqdm) (0.4.6)\n"
     ]
    }
   ],
   "source": [
    "# Standard Imports\n",
    "import numpy as np\n",
    "import pandas as pd\n",
    "import matplotlib.pyplot as plt\n",
    "import seaborn as sns\n",
    "# Additional Imports\n",
    "import os, json, math, time\n",
    "from yelpapi import YelpAPI\n",
    "from tqdm.notebook import tqdm_notebook\n",
    "# Install tmdbsimple (only need to run once)\n",
    "!pip install tqdm"
   ]
  },
  {
   "cell_type": "code",
   "execution_count": 2,
   "id": "7c77bebb-c6a2-4056-b166-075a79a19255",
   "metadata": {},
   "outputs": [],
   "source": [
    "# Load API Credentials\n",
    "with open('/Users/om88920/.secret/yelp_api.json') as f:\n",
    "    login = json.load(f)\n",
    "# Instantiate YelpAPI Variable\n",
    "yelp_api = YelpAPI(login['api-key'], timeout_s=5.0)"
   ]
  },
  {
   "cell_type": "code",
   "execution_count": 3,
   "id": "ffea1e5d-2710-4977-9b7b-639d370c3cc9",
   "metadata": {},
   "outputs": [
    {
     "data": {
      "text/plain": [
       "dict_keys(['client-id', 'api-key'])"
      ]
     },
     "execution_count": 3,
     "metadata": {},
     "output_type": "execute_result"
    }
   ],
   "source": [
    "login.keys()"
   ]
  },
  {
   "cell_type": "code",
   "execution_count": 4,
   "id": "15e3d924-e38a-44c6-8878-4a4f0d0de1e3",
   "metadata": {},
   "outputs": [],
   "source": [
    "# set our API call parameters \n",
    "LOCATION = 'NY,NY'\n",
    "TERM = 'Pizza'"
   ]
  },
  {
   "cell_type": "code",
   "execution_count": 5,
   "id": "a19951ad-ae28-4176-a5ab-d139d2f50638",
   "metadata": {},
   "outputs": [
    {
     "data": {
      "text/plain": [
       "'NY'"
      ]
     },
     "execution_count": 5,
     "metadata": {},
     "output_type": "execute_result"
    }
   ],
   "source": [
    "LOCATION.split(',')[0]"
   ]
  },
  {
   "cell_type": "code",
   "execution_count": 6,
   "id": "26699bc7-1ea0-462b-bec3-fab014f63e1b",
   "metadata": {},
   "outputs": [
    {
     "data": {
      "text/plain": [
       "'Data/results_in_progress_NY_pizza.json'"
      ]
     },
     "execution_count": 6,
     "metadata": {},
     "output_type": "execute_result"
    }
   ],
   "source": [
    "# Specifying JSON_FILE filename (can include a folder)\n",
    "# include the search terms in the filename\n",
    "JSON_FILE = \"Data/results_in_progress_NY_pizza.json\"\n",
    "JSON_FILE"
   ]
  },
  {
   "cell_type": "code",
   "execution_count": 7,
   "id": "530cf07b-9305-4f17-9374-241fb4d57e3c",
   "metadata": {},
   "outputs": [
    {
     "name": "stdout",
     "output_type": "stream",
     "text": [
      "[i] Data/results_in_progress_NY_pizza.json already exists.\n"
     ]
    }
   ],
   "source": [
    "## Check if JSON_FILE exists\n",
    "file_exists = os.path.isfile(JSON_FILE)\n",
    "## If it does not exist: \n",
    "if file_exists == False:\n",
    "    \n",
    "    ## CREATE ANY NEEDED FOLDERS\n",
    "    # Get the Folder Name only\n",
    "    folder = os.path.dirname(JSON_FILE)\n",
    "    ## If JSON_FILE included a folder:\n",
    "    if len(folder)>0:\n",
    "        # create the folder\n",
    "        os.makedirs(folder,exist_ok=True)\n",
    "        \n",
    "        \n",
    "    ## INFORM USER AND SAVE EMPTY LIST\n",
    "    print(f'[i] {JSON_FILE} not found. Saving empty list to file.')\n",
    "    \n",
    "    \n",
    "    # save an empty list\n",
    "    with open(JSON_FILE,'w') as f:\n",
    "        json.dump([],f)  \n",
    "# If it exists, inform user\n",
    "else:\n",
    "    print(f\"[i] {JSON_FILE} already exists.\")"
   ]
  },
  {
   "cell_type": "code",
   "execution_count": 8,
   "id": "dfa7e833-d0cf-4e9d-945d-beb87f1d326d",
   "metadata": {},
   "outputs": [
    {
     "name": "stdout",
     "output_type": "stream",
     "text": [
      "- 440 previous results found.\n"
     ]
    }
   ],
   "source": [
    "## Load previous results and use len of results for offset\n",
    "with open(JSON_FILE,'r') as f:\n",
    "    previous_results = json.load(f)\n",
    "    \n",
    "## set offset based on previous results\n",
    "n_results = len(previous_results)\n",
    "print(f'- {n_results} previous results found.')"
   ]
  },
  {
   "cell_type": "code",
   "execution_count": 9,
   "id": "df869fff-da84-4373-8bf4-c3da741b8508",
   "metadata": {},
   "outputs": [
    {
     "data": {
      "text/plain": [
       "dict_keys(['businesses', 'total', 'region'])"
      ]
     },
     "execution_count": 9,
     "metadata": {},
     "output_type": "execute_result"
    }
   ],
   "source": [
    "# use our yelp_api variable's search_query method to perform our API call\n",
    "results = yelp_api.search_query(location=LOCATION,\n",
    "                                term=TERM)\n",
    "results.keys()"
   ]
  },
  {
   "cell_type": "code",
   "execution_count": 10,
   "id": "513ac53c-8d63-4635-b858-a3bdcc862bdd",
   "metadata": {},
   "outputs": [
    {
     "data": {
      "text/plain": [
       "12400"
      ]
     },
     "execution_count": 10,
     "metadata": {},
     "output_type": "execute_result"
    }
   ],
   "source": [
    "## How many results total?\n",
    "total_results = results['total']\n",
    "total_results"
   ]
  },
  {
   "cell_type": "code",
   "execution_count": 11,
   "id": "d9df29c8-cfaf-4deb-8a90-cf5eb0060e87",
   "metadata": {},
   "outputs": [
    {
     "data": {
      "text/plain": [
       "20"
      ]
     },
     "execution_count": 11,
     "metadata": {},
     "output_type": "execute_result"
    }
   ],
   "source": [
    "## How many did we get the details for?\n",
    "results_per_page = len(results['businesses'])\n",
    "results_per_page"
   ]
  },
  {
   "cell_type": "code",
   "execution_count": 12,
   "id": "204bd579-36ab-4d09-a28b-322bb2b1c754",
   "metadata": {},
   "outputs": [
    {
     "data": {
      "text/plain": [
       "598"
      ]
     },
     "execution_count": 12,
     "metadata": {},
     "output_type": "execute_result"
    }
   ],
   "source": [
    "# Import additional packages for controlling our loop\n",
    "import time, math\n",
    "# Use math.ceil to round up for the total number of pages of results.\n",
    "n_pages = math.ceil((results['total']-n_results)/ results_per_page)\n",
    "n_pages"
   ]
  },
  {
   "cell_type": "code",
   "execution_count": 13,
   "id": "89bdba0d-fb78-4831-9707-c9276a8aa371",
   "metadata": {},
   "outputs": [],
   "source": [
    "# join new results with old list with extend and save to file\n",
    "previous_results.extend(results['businesses'])  \n",
    "with open(JSON_FILE,'w') as f:\n",
    "     json.dump(previous_results,f)"
   ]
  },
  {
   "cell_type": "code",
   "execution_count": 14,
   "id": "d4277e02-9a64-484a-8c20-acbeba221667",
   "metadata": {},
   "outputs": [
    {
     "data": {
      "application/vnd.jupyter.widget-view+json": {
       "model_id": "5b94ae68e7f04405b2d02112c912e1bc",
       "version_major": 2,
       "version_minor": 0
      },
      "text/plain": [
       "  0%|          | 0/598 [00:00<?, ?it/s]"
      ]
     },
     "metadata": {},
     "output_type": "display_data"
    }
   ],
   "source": [
    "from tqdm.notebook import tqdm_notebook\n",
    "import time\n",
    "for page_num in tqdm_notebook(range(n_pages)):\n",
    "    # adds 200 ms pause\n",
    "    time.sleep(.2)"
   ]
  },
  {
   "cell_type": "code",
   "execution_count": 15,
   "id": "0d9044f5-dc20-4207-b917-0508cd79560c",
   "metadata": {},
   "outputs": [],
   "source": [
    "def create_json_file(JSON_FILE,  delete_if_exists=False):\n",
    "    \n",
    "    ## Check if JSON_FILE exists\n",
    "    file_exists = os.path.isfile(JSON_FILE)\n",
    "    \n",
    "    ## If it DOES exist:\n",
    "    if file_exists == True:\n",
    "        \n",
    "        ## Check if user wants to delete if exists\n",
    "        if delete_if_exists==True:\n",
    "            \n",
    "            print(f\"[!] {JSON_FILE} already exists. Deleting previous file...\")\n",
    "            ## delete file and confirm it no longer exits.\n",
    "            os.remove(JSON_FILE)\n",
    "            ## Recursive call to function after old file deleted\n",
    "            create_json_file(JSON_FILE,delete_if_exists=False)\n",
    "        else:\n",
    "            print(f\"[i] {JSON_FILE} already exists.\")            \n",
    "            \n",
    "            \n",
    "    ## If it does NOT exist:\n",
    "    else:\n",
    "        \n",
    "        ## INFORM USER AND SAVE EMPTY LIST\n",
    "        print(f\"[i] {JSON_FILE} not found. Saving empty list to new file.\")\n",
    "        \n",
    "        ## CREATE ANY NEEDED FOLDERS\n",
    "        # Get the Folder Name only\n",
    "        folder = os.path.dirname(JSON_FILE)\n",
    "        \n",
    "        ## If JSON_FILE included a folder:\n",
    "        if len(folder)>0:\n",
    "            # create the folder\n",
    "            os.makedirs(folder,exist_ok=True)\n",
    "        ## Save empty list to start the json file\n",
    "        with open(JSON_FILE,'w') as f:\n",
    "            json.dump([],f)  "
   ]
  },
  {
   "cell_type": "code",
   "execution_count": 16,
   "id": "5139defc-b5d6-4b3b-87d3-11f520245614",
   "metadata": {},
   "outputs": [
    {
     "name": "stdout",
     "output_type": "stream",
     "text": [
      "[!] Data/results_in_progress_NY_pizza.json already exists. Deleting previous file...\n",
      "[i] Data/results_in_progress_NY_pizza.json not found. Saving empty list to new file.\n",
      "- 0 previous results found.\n"
     ]
    },
    {
     "data": {
      "text/plain": [
       "625"
      ]
     },
     "execution_count": 16,
     "metadata": {},
     "output_type": "execute_result"
    }
   ],
   "source": [
    "## Create a new empty json file (exist the previous if it exists)\n",
    "create_json_file(JSON_FILE, delete_if_exists=True)\n",
    "## Load previous results and use len of results for offset\n",
    "with open(JSON_FILE,'r') as f:\n",
    "    previous_results = json.load(f)\n",
    "    \n",
    "## set offset based on previous results\n",
    "n_results = len(previous_results)\n",
    "print(f'- {n_results} previous results found.')\n",
    "# use our yelp_api variable's search_query method to perform our API call\n",
    "results = yelp_api.search_query(location=LOCATION,\n",
    "                                term=TERM)\n",
    "## How many results total?\n",
    "total_results = results['total']\n",
    "## How many did we get the details for?\n",
    "results_per_page = len(results['businesses'])\n",
    "# Use math.ceil to round up for the total number of pages of results.\n",
    "n_pages = math.ceil((results['total']-n_results)/ results_per_page)\n",
    "n_pages"
   ]
  },
  {
   "cell_type": "code",
   "execution_count": 17,
   "id": "63500842-9dcf-4805-9f15-a8648af84eb1",
   "metadata": {
    "scrolled": true
   },
   "outputs": [
    {
     "data": {
      "application/vnd.jupyter.widget-view+json": {
       "model_id": "bdeddba48360428eb204cd4040a6152e",
       "version_major": 2,
       "version_minor": 0
      },
      "text/plain": [
       "  0%|          | 0/625 [00:00<?, ?it/s]"
      ]
     },
     "metadata": {},
     "output_type": "display_data"
    },
    {
     "name": "stdout",
     "output_type": "stream",
     "text": [
      "Exceeded 1000 api calls. Stopping loop.\n"
     ]
    }
   ],
   "source": [
    "for page_num in tqdm_notebook(range(1,n_pages+1)):\n",
    "    \n",
    "    ## Read in results in progress file and check the length\n",
    "    with open(JSON_FILE, 'r') as f:\n",
    "        previous_results = json.load(f)\n",
    "    ## save number of results for to use as offset\n",
    "    n_results = len(previous_results)\n",
    "    \n",
    "    if (n_results + results_per_page) > 450:\n",
    "        print('Exceeded 1000 api calls. Stopping loop.')\n",
    "        break\n",
    "    \n",
    "    ## use n_results as the OFFSET \n",
    "    results = yelp_api.search_query(location=LOCATION,\n",
    "                                    term=TERM)\n",
    "    \n",
    "    \n",
    "    \n",
    "    ## append new results and save to file\n",
    "    previous_results.extend(results['businesses'])\n",
    "    \n",
    "    # display(previous_results)\n",
    "    with open(JSON_FILE,'w') as f:\n",
    "        json.dump(previous_results,f)\n",
    "    \n",
    "    time.sleep(.2)"
   ]
  },
  {
   "cell_type": "code",
   "execution_count": 18,
   "id": "a8836789-fec6-42d0-8021-310b8b78c1c5",
   "metadata": {},
   "outputs": [
    {
     "data": {
      "text/html": [
       "<div>\n",
       "<style scoped>\n",
       "    .dataframe tbody tr th:only-of-type {\n",
       "        vertical-align: middle;\n",
       "    }\n",
       "\n",
       "    .dataframe tbody tr th {\n",
       "        vertical-align: top;\n",
       "    }\n",
       "\n",
       "    .dataframe thead th {\n",
       "        text-align: right;\n",
       "    }\n",
       "</style>\n",
       "<table border=\"1\" class=\"dataframe\">\n",
       "  <thead>\n",
       "    <tr style=\"text-align: right;\">\n",
       "      <th></th>\n",
       "      <th>id</th>\n",
       "      <th>alias</th>\n",
       "      <th>name</th>\n",
       "      <th>image_url</th>\n",
       "      <th>is_closed</th>\n",
       "      <th>url</th>\n",
       "      <th>review_count</th>\n",
       "      <th>categories</th>\n",
       "      <th>rating</th>\n",
       "      <th>coordinates</th>\n",
       "      <th>transactions</th>\n",
       "      <th>price</th>\n",
       "      <th>location</th>\n",
       "      <th>phone</th>\n",
       "      <th>display_phone</th>\n",
       "      <th>distance</th>\n",
       "    </tr>\n",
       "  </thead>\n",
       "  <tbody>\n",
       "    <tr>\n",
       "      <th>0</th>\n",
       "      <td>zj8Lq1T8KIC5zwFief15jg</td>\n",
       "      <td>prince-street-pizza-new-york-2</td>\n",
       "      <td>Prince Street Pizza</td>\n",
       "      <td>https://s3-media4.fl.yelpcdn.com/bphoto/PfI8oV...</td>\n",
       "      <td>False</td>\n",
       "      <td>https://www.yelp.com/biz/prince-street-pizza-n...</td>\n",
       "      <td>5084</td>\n",
       "      <td>[{'alias': 'pizza', 'title': 'Pizza'}, {'alias...</td>\n",
       "      <td>4.5</td>\n",
       "      <td>{'latitude': 40.72308755605564, 'longitude': -...</td>\n",
       "      <td>[delivery, pickup]</td>\n",
       "      <td>$</td>\n",
       "      <td>{'address1': '27 Prince St', 'address2': None,...</td>\n",
       "      <td>12129664100</td>\n",
       "      <td>(212) 966-4100</td>\n",
       "      <td>1961.877142</td>\n",
       "    </tr>\n",
       "    <tr>\n",
       "      <th>1</th>\n",
       "      <td>ysqgdbSrezXgVwER2kQWKA</td>\n",
       "      <td>julianas-brooklyn-3</td>\n",
       "      <td>Juliana's</td>\n",
       "      <td>https://s3-media2.fl.yelpcdn.com/bphoto/od36nF...</td>\n",
       "      <td>False</td>\n",
       "      <td>https://www.yelp.com/biz/julianas-brooklyn-3?a...</td>\n",
       "      <td>2706</td>\n",
       "      <td>[{'alias': 'pizza', 'title': 'Pizza'}]</td>\n",
       "      <td>4.5</td>\n",
       "      <td>{'latitude': 40.70274718768062, 'longitude': -...</td>\n",
       "      <td>[delivery]</td>\n",
       "      <td>$$</td>\n",
       "      <td>{'address1': '19 Old Fulton St', 'address2': '...</td>\n",
       "      <td>17185966700</td>\n",
       "      <td>(718) 596-6700</td>\n",
       "      <td>308.569844</td>\n",
       "    </tr>\n",
       "    <tr>\n",
       "      <th>2</th>\n",
       "      <td>WG639VkTjmK5dzydd1BBJA</td>\n",
       "      <td>rubirosa-new-york-2</td>\n",
       "      <td>Rubirosa</td>\n",
       "      <td>https://s3-media3.fl.yelpcdn.com/bphoto/l0Phrn...</td>\n",
       "      <td>False</td>\n",
       "      <td>https://www.yelp.com/biz/rubirosa-new-york-2?a...</td>\n",
       "      <td>3193</td>\n",
       "      <td>[{'alias': 'italian', 'title': 'Italian'}, {'a...</td>\n",
       "      <td>4.5</td>\n",
       "      <td>{'latitude': 40.722766, 'longitude': -73.996233}</td>\n",
       "      <td>[pickup]</td>\n",
       "      <td>$$</td>\n",
       "      <td>{'address1': '235 Mulberry St', 'address2': ''...</td>\n",
       "      <td>12129650500</td>\n",
       "      <td>(212) 965-0500</td>\n",
       "      <td>1932.946770</td>\n",
       "    </tr>\n",
       "    <tr>\n",
       "      <th>3</th>\n",
       "      <td>v1DHGRNCH9247WLYoaoA9A</td>\n",
       "      <td>l-industrie-pizzeria-brooklyn</td>\n",
       "      <td>L'industrie Pizzeria</td>\n",
       "      <td>https://s3-media1.fl.yelpcdn.com/bphoto/1-VBwA...</td>\n",
       "      <td>False</td>\n",
       "      <td>https://www.yelp.com/biz/l-industrie-pizzeria-...</td>\n",
       "      <td>1152</td>\n",
       "      <td>[{'alias': 'pizza', 'title': 'Pizza'}]</td>\n",
       "      <td>4.5</td>\n",
       "      <td>{'latitude': 40.71162, 'longitude': -73.95783}</td>\n",
       "      <td>[delivery]</td>\n",
       "      <td>$</td>\n",
       "      <td>{'address1': '254 S 2nd St', 'address2': '', '...</td>\n",
       "      <td>17185990002</td>\n",
       "      <td>(718) 599-0002</td>\n",
       "      <td>3145.016041</td>\n",
       "    </tr>\n",
       "    <tr>\n",
       "      <th>4</th>\n",
       "      <td>uc5qQMzs96rzjK27epDCug</td>\n",
       "      <td>joes-pizza-new-york-4</td>\n",
       "      <td>Joe's Pizza</td>\n",
       "      <td>https://s3-media3.fl.yelpcdn.com/bphoto/FKjd9R...</td>\n",
       "      <td>False</td>\n",
       "      <td>https://www.yelp.com/biz/joes-pizza-new-york-4...</td>\n",
       "      <td>3073</td>\n",
       "      <td>[{'alias': 'pizza', 'title': 'Pizza'}]</td>\n",
       "      <td>4.0</td>\n",
       "      <td>{'latitude': 40.73060076, 'longitude': -74.002...</td>\n",
       "      <td>[delivery]</td>\n",
       "      <td>$</td>\n",
       "      <td>{'address1': '7 Carmine St', 'address2': '', '...</td>\n",
       "      <td>12123661182</td>\n",
       "      <td>(212) 366-1182</td>\n",
       "      <td>2874.702514</td>\n",
       "    </tr>\n",
       "  </tbody>\n",
       "</table>\n",
       "</div>"
      ],
      "text/plain": [
       "                       id                           alias  \\\n",
       "0  zj8Lq1T8KIC5zwFief15jg  prince-street-pizza-new-york-2   \n",
       "1  ysqgdbSrezXgVwER2kQWKA             julianas-brooklyn-3   \n",
       "2  WG639VkTjmK5dzydd1BBJA             rubirosa-new-york-2   \n",
       "3  v1DHGRNCH9247WLYoaoA9A   l-industrie-pizzeria-brooklyn   \n",
       "4  uc5qQMzs96rzjK27epDCug           joes-pizza-new-york-4   \n",
       "\n",
       "                   name                                          image_url  \\\n",
       "0   Prince Street Pizza  https://s3-media4.fl.yelpcdn.com/bphoto/PfI8oV...   \n",
       "1             Juliana's  https://s3-media2.fl.yelpcdn.com/bphoto/od36nF...   \n",
       "2              Rubirosa  https://s3-media3.fl.yelpcdn.com/bphoto/l0Phrn...   \n",
       "3  L'industrie Pizzeria  https://s3-media1.fl.yelpcdn.com/bphoto/1-VBwA...   \n",
       "4           Joe's Pizza  https://s3-media3.fl.yelpcdn.com/bphoto/FKjd9R...   \n",
       "\n",
       "   is_closed                                                url  review_count  \\\n",
       "0      False  https://www.yelp.com/biz/prince-street-pizza-n...          5084   \n",
       "1      False  https://www.yelp.com/biz/julianas-brooklyn-3?a...          2706   \n",
       "2      False  https://www.yelp.com/biz/rubirosa-new-york-2?a...          3193   \n",
       "3      False  https://www.yelp.com/biz/l-industrie-pizzeria-...          1152   \n",
       "4      False  https://www.yelp.com/biz/joes-pizza-new-york-4...          3073   \n",
       "\n",
       "                                          categories  rating  \\\n",
       "0  [{'alias': 'pizza', 'title': 'Pizza'}, {'alias...     4.5   \n",
       "1             [{'alias': 'pizza', 'title': 'Pizza'}]     4.5   \n",
       "2  [{'alias': 'italian', 'title': 'Italian'}, {'a...     4.5   \n",
       "3             [{'alias': 'pizza', 'title': 'Pizza'}]     4.5   \n",
       "4             [{'alias': 'pizza', 'title': 'Pizza'}]     4.0   \n",
       "\n",
       "                                         coordinates        transactions  \\\n",
       "0  {'latitude': 40.72308755605564, 'longitude': -...  [delivery, pickup]   \n",
       "1  {'latitude': 40.70274718768062, 'longitude': -...          [delivery]   \n",
       "2   {'latitude': 40.722766, 'longitude': -73.996233}            [pickup]   \n",
       "3     {'latitude': 40.71162, 'longitude': -73.95783}          [delivery]   \n",
       "4  {'latitude': 40.73060076, 'longitude': -74.002...          [delivery]   \n",
       "\n",
       "  price                                           location        phone  \\\n",
       "0     $  {'address1': '27 Prince St', 'address2': None,...  12129664100   \n",
       "1    $$  {'address1': '19 Old Fulton St', 'address2': '...  17185966700   \n",
       "2    $$  {'address1': '235 Mulberry St', 'address2': ''...  12129650500   \n",
       "3     $  {'address1': '254 S 2nd St', 'address2': '', '...  17185990002   \n",
       "4     $  {'address1': '7 Carmine St', 'address2': '', '...  12123661182   \n",
       "\n",
       "    display_phone     distance  \n",
       "0  (212) 966-4100  1961.877142  \n",
       "1  (718) 596-6700   308.569844  \n",
       "2  (212) 965-0500  1932.946770  \n",
       "3  (718) 599-0002  3145.016041  \n",
       "4  (212) 366-1182  2874.702514  "
      ]
     },
     "metadata": {},
     "output_type": "display_data"
    },
    {
     "data": {
      "text/html": [
       "<div>\n",
       "<style scoped>\n",
       "    .dataframe tbody tr th:only-of-type {\n",
       "        vertical-align: middle;\n",
       "    }\n",
       "\n",
       "    .dataframe tbody tr th {\n",
       "        vertical-align: top;\n",
       "    }\n",
       "\n",
       "    .dataframe thead th {\n",
       "        text-align: right;\n",
       "    }\n",
       "</style>\n",
       "<table border=\"1\" class=\"dataframe\">\n",
       "  <thead>\n",
       "    <tr style=\"text-align: right;\">\n",
       "      <th></th>\n",
       "      <th>id</th>\n",
       "      <th>alias</th>\n",
       "      <th>name</th>\n",
       "      <th>image_url</th>\n",
       "      <th>is_closed</th>\n",
       "      <th>url</th>\n",
       "      <th>review_count</th>\n",
       "      <th>categories</th>\n",
       "      <th>rating</th>\n",
       "      <th>coordinates</th>\n",
       "      <th>transactions</th>\n",
       "      <th>price</th>\n",
       "      <th>location</th>\n",
       "      <th>phone</th>\n",
       "      <th>display_phone</th>\n",
       "      <th>distance</th>\n",
       "    </tr>\n",
       "  </thead>\n",
       "  <tbody>\n",
       "    <tr>\n",
       "      <th>435</th>\n",
       "      <td>xxgcU_oFIox_pAmroo9WwA</td>\n",
       "      <td>front-street-pizza-brooklyn</td>\n",
       "      <td>Front Street Pizza</td>\n",
       "      <td>https://s3-media2.fl.yelpcdn.com/bphoto/wRdm4f...</td>\n",
       "      <td>False</td>\n",
       "      <td>https://www.yelp.com/biz/front-street-pizza-br...</td>\n",
       "      <td>472</td>\n",
       "      <td>[{'alias': 'pizza', 'title': 'Pizza'}, {'alias...</td>\n",
       "      <td>4.0</td>\n",
       "      <td>{'latitude': 40.70244, 'longitude': -73.98943}</td>\n",
       "      <td>[pickup, delivery]</td>\n",
       "      <td>$</td>\n",
       "      <td>{'address1': '80 Front St', 'address2': '', 'a...</td>\n",
       "      <td>17188753700</td>\n",
       "      <td>(718) 875-3700</td>\n",
       "      <td>550.439226</td>\n",
       "    </tr>\n",
       "    <tr>\n",
       "      <th>436</th>\n",
       "      <td>hGksyTiHBBdrhbiVjXzWVw</td>\n",
       "      <td>scarrs-pizza-new-york</td>\n",
       "      <td>Scarr's Pizza</td>\n",
       "      <td>https://s3-media3.fl.yelpcdn.com/bphoto/xonxGJ...</td>\n",
       "      <td>False</td>\n",
       "      <td>https://www.yelp.com/biz/scarrs-pizza-new-york...</td>\n",
       "      <td>875</td>\n",
       "      <td>[{'alias': 'pizza', 'title': 'Pizza'}]</td>\n",
       "      <td>4.0</td>\n",
       "      <td>{'latitude': 40.7157238, 'longitude': -73.9916...</td>\n",
       "      <td>[pickup, delivery]</td>\n",
       "      <td>$</td>\n",
       "      <td>{'address1': '35 Orchard St', 'address2': '', ...</td>\n",
       "      <td>12123343481</td>\n",
       "      <td>(212) 334-3481</td>\n",
       "      <td>1165.100255</td>\n",
       "    </tr>\n",
       "    <tr>\n",
       "      <th>437</th>\n",
       "      <td>afuiZyn9oOyyCpuW7wGfHQ</td>\n",
       "      <td>l-antica-pizzeria-da-michele-new-york</td>\n",
       "      <td>L’Antica Pizzeria da Michele</td>\n",
       "      <td>https://s3-media2.fl.yelpcdn.com/bphoto/CFXMUP...</td>\n",
       "      <td>False</td>\n",
       "      <td>https://www.yelp.com/biz/l-antica-pizzeria-da-...</td>\n",
       "      <td>106</td>\n",
       "      <td>[{'alias': 'pizza', 'title': 'Pizza'}, {'alias...</td>\n",
       "      <td>4.5</td>\n",
       "      <td>{'latitude': 40.737052, 'longitude': -74.001571}</td>\n",
       "      <td>[pickup, delivery]</td>\n",
       "      <td>$$$</td>\n",
       "      <td>{'address1': '81 Greenwich Ave', 'address2': N...</td>\n",
       "      <td>19295246682</td>\n",
       "      <td>(929) 524-6682</td>\n",
       "      <td>3560.290394</td>\n",
       "    </tr>\n",
       "    <tr>\n",
       "      <th>438</th>\n",
       "      <td>-9NO2IDCJMyNGZMAQ1-VQw</td>\n",
       "      <td>ny-pizza-suprema-new-york</td>\n",
       "      <td>NY Pizza Suprema</td>\n",
       "      <td>https://s3-media4.fl.yelpcdn.com/bphoto/EqbDXn...</td>\n",
       "      <td>False</td>\n",
       "      <td>https://www.yelp.com/biz/ny-pizza-suprema-new-...</td>\n",
       "      <td>2552</td>\n",
       "      <td>[{'alias': 'pizza', 'title': 'Pizza'}]</td>\n",
       "      <td>4.5</td>\n",
       "      <td>{'latitude': 40.7502059936523, 'longitude': -7...</td>\n",
       "      <td>[pickup, delivery]</td>\n",
       "      <td>$</td>\n",
       "      <td>{'address1': '413 8th Ave', 'address2': '', 'a...</td>\n",
       "      <td>12125948939</td>\n",
       "      <td>(212) 594-8939</td>\n",
       "      <td>4977.847939</td>\n",
       "    </tr>\n",
       "    <tr>\n",
       "      <th>439</th>\n",
       "      <td>j-vsTCIrppw9w7mOB_KHhg</td>\n",
       "      <td>pizza-loves-sauce-new-york-2</td>\n",
       "      <td>Pizza Loves Sauce</td>\n",
       "      <td>https://s3-media2.fl.yelpcdn.com/bphoto/OfskPM...</td>\n",
       "      <td>False</td>\n",
       "      <td>https://www.yelp.com/biz/pizza-loves-sauce-new...</td>\n",
       "      <td>25</td>\n",
       "      <td>[{'alias': 'pizza', 'title': 'Pizza'}]</td>\n",
       "      <td>5.0</td>\n",
       "      <td>{'latitude': 40.723026, 'longitude': -73.989664}</td>\n",
       "      <td>[pickup, delivery]</td>\n",
       "      <td>NaN</td>\n",
       "      <td>{'address1': '147 E Houston St', 'address2': N...</td>\n",
       "      <td>19174561013</td>\n",
       "      <td>(917) 456-1013</td>\n",
       "      <td>1986.675302</td>\n",
       "    </tr>\n",
       "  </tbody>\n",
       "</table>\n",
       "</div>"
      ],
      "text/plain": [
       "                         id                                  alias  \\\n",
       "435  xxgcU_oFIox_pAmroo9WwA            front-street-pizza-brooklyn   \n",
       "436  hGksyTiHBBdrhbiVjXzWVw                  scarrs-pizza-new-york   \n",
       "437  afuiZyn9oOyyCpuW7wGfHQ  l-antica-pizzeria-da-michele-new-york   \n",
       "438  -9NO2IDCJMyNGZMAQ1-VQw              ny-pizza-suprema-new-york   \n",
       "439  j-vsTCIrppw9w7mOB_KHhg           pizza-loves-sauce-new-york-2   \n",
       "\n",
       "                             name  \\\n",
       "435            Front Street Pizza   \n",
       "436                 Scarr's Pizza   \n",
       "437  L’Antica Pizzeria da Michele   \n",
       "438              NY Pizza Suprema   \n",
       "439             Pizza Loves Sauce   \n",
       "\n",
       "                                             image_url  is_closed  \\\n",
       "435  https://s3-media2.fl.yelpcdn.com/bphoto/wRdm4f...      False   \n",
       "436  https://s3-media3.fl.yelpcdn.com/bphoto/xonxGJ...      False   \n",
       "437  https://s3-media2.fl.yelpcdn.com/bphoto/CFXMUP...      False   \n",
       "438  https://s3-media4.fl.yelpcdn.com/bphoto/EqbDXn...      False   \n",
       "439  https://s3-media2.fl.yelpcdn.com/bphoto/OfskPM...      False   \n",
       "\n",
       "                                                   url  review_count  \\\n",
       "435  https://www.yelp.com/biz/front-street-pizza-br...           472   \n",
       "436  https://www.yelp.com/biz/scarrs-pizza-new-york...           875   \n",
       "437  https://www.yelp.com/biz/l-antica-pizzeria-da-...           106   \n",
       "438  https://www.yelp.com/biz/ny-pizza-suprema-new-...          2552   \n",
       "439  https://www.yelp.com/biz/pizza-loves-sauce-new...            25   \n",
       "\n",
       "                                            categories  rating  \\\n",
       "435  [{'alias': 'pizza', 'title': 'Pizza'}, {'alias...     4.0   \n",
       "436             [{'alias': 'pizza', 'title': 'Pizza'}]     4.0   \n",
       "437  [{'alias': 'pizza', 'title': 'Pizza'}, {'alias...     4.5   \n",
       "438             [{'alias': 'pizza', 'title': 'Pizza'}]     4.5   \n",
       "439             [{'alias': 'pizza', 'title': 'Pizza'}]     5.0   \n",
       "\n",
       "                                           coordinates        transactions  \\\n",
       "435     {'latitude': 40.70244, 'longitude': -73.98943}  [pickup, delivery]   \n",
       "436  {'latitude': 40.7157238, 'longitude': -73.9916...  [pickup, delivery]   \n",
       "437   {'latitude': 40.737052, 'longitude': -74.001571}  [pickup, delivery]   \n",
       "438  {'latitude': 40.7502059936523, 'longitude': -7...  [pickup, delivery]   \n",
       "439   {'latitude': 40.723026, 'longitude': -73.989664}  [pickup, delivery]   \n",
       "\n",
       "    price                                           location        phone  \\\n",
       "435     $  {'address1': '80 Front St', 'address2': '', 'a...  17188753700   \n",
       "436     $  {'address1': '35 Orchard St', 'address2': '', ...  12123343481   \n",
       "437   $$$  {'address1': '81 Greenwich Ave', 'address2': N...  19295246682   \n",
       "438     $  {'address1': '413 8th Ave', 'address2': '', 'a...  12125948939   \n",
       "439   NaN  {'address1': '147 E Houston St', 'address2': N...  19174561013   \n",
       "\n",
       "      display_phone     distance  \n",
       "435  (718) 875-3700   550.439226  \n",
       "436  (212) 334-3481  1165.100255  \n",
       "437  (929) 524-6682  3560.290394  \n",
       "438  (212) 594-8939  4977.847939  \n",
       "439  (917) 456-1013  1986.675302  "
      ]
     },
     "metadata": {},
     "output_type": "display_data"
    }
   ],
   "source": [
    "# load final results\n",
    "final_df = pd.read_json(JSON_FILE)\n",
    "display(final_df.head(), final_df.tail())"
   ]
  },
  {
   "cell_type": "code",
   "execution_count": 19,
   "id": "94d4b688-f1cb-4edc-8ece-9e25aafce98b",
   "metadata": {},
   "outputs": [
    {
     "name": "stdout",
     "output_type": "stream",
     "text": [
      "Columns with lists: ['categories', 'transactions']\n"
     ]
    }
   ],
   "source": [
    "# Assuming final_df is your DataFrame\n",
    "columns_with_lists = []\n",
    "\n",
    "for column in final_df.columns:\n",
    "    if any(isinstance(item, list) for item in final_df[column]):\n",
    "        columns_with_lists.append(column)\n",
    "\n",
    "print(\"Columns with lists:\", columns_with_lists)"
   ]
  },
  {
   "cell_type": "code",
   "execution_count": 20,
   "id": "6a017109-0252-49e7-90ad-a83368424a54",
   "metadata": {},
   "outputs": [],
   "source": [
    "final_df = final_df.explode('categories')"
   ]
  },
  {
   "cell_type": "code",
   "execution_count": 21,
   "id": "5316782a-df61-4c5d-9527-6206cda70700",
   "metadata": {},
   "outputs": [],
   "source": [
    "final_df = final_df.explode('transactions')"
   ]
  },
  {
   "cell_type": "code",
   "execution_count": 22,
   "id": "727ce6eb-6f90-4643-97c7-533ae2e6ec5b",
   "metadata": {},
   "outputs": [
    {
     "name": "stdout",
     "output_type": "stream",
     "text": [
      "Columns with dictionaries: ['categories', 'coordinates', 'location']\n"
     ]
    }
   ],
   "source": [
    "columns_with_dicts = []\n",
    "\n",
    "for column in final_df.columns:\n",
    "    if any(isinstance(item, dict) for item in final_df[column]):\n",
    "        columns_with_dicts.append(column)\n",
    "\n",
    "print(\"Columns with dictionaries:\", columns_with_dicts)"
   ]
  },
  {
   "cell_type": "code",
   "execution_count": 23,
   "id": "49079658-c972-46b4-8735-678bfb164a47",
   "metadata": {},
   "outputs": [],
   "source": [
    "final_df = final_df.explode('coordinates')"
   ]
  },
  {
   "cell_type": "code",
   "execution_count": 24,
   "id": "a4ceda18-191d-4d0c-962b-c46be7e589a3",
   "metadata": {},
   "outputs": [],
   "source": [
    "final_df = final_df.explode('categories')"
   ]
  },
  {
   "cell_type": "code",
   "execution_count": 26,
   "id": "9059c5a1-9b61-4528-b6bc-09868f71e6e5",
   "metadata": {},
   "outputs": [],
   "source": [
    "final_df = final_df.explode('location')"
   ]
  },
  {
   "cell_type": "code",
   "execution_count": 27,
   "id": "baa690ec-adf4-4490-945c-cbaef6e11a6f",
   "metadata": {},
   "outputs": [
    {
     "data": {
      "text/plain": [
       "38048"
      ]
     },
     "execution_count": 27,
     "metadata": {},
     "output_type": "execute_result"
    }
   ],
   "source": [
    "# check for duplicate results\n",
    "final_df.duplicated().sum()"
   ]
  },
  {
   "cell_type": "code",
   "execution_count": 28,
   "id": "bf37265e-d581-4f27-a84b-66c9e551e53b",
   "metadata": {},
   "outputs": [
    {
     "data": {
      "text/plain": [
       "39211"
      ]
     },
     "execution_count": 28,
     "metadata": {},
     "output_type": "execute_result"
    }
   ],
   "source": [
    "# check for duplicate ID's \n",
    "final_df.duplicated(subset='id').sum()"
   ]
  },
  {
   "cell_type": "code",
   "execution_count": 29,
   "id": "64cc321f-e304-4d58-bde2-4157eba7577e",
   "metadata": {},
   "outputs": [
    {
     "data": {
      "text/plain": [
       "0"
      ]
     },
     "execution_count": 29,
     "metadata": {},
     "output_type": "execute_result"
    }
   ],
   "source": [
    "## Drop duplicate ids and confirm there are no more duplicates\n",
    "final_df = final_df.drop_duplicates(subset='id')\n",
    "final_df.duplicated(subset='id').sum()"
   ]
  },
  {
   "cell_type": "code",
   "execution_count": 30,
   "id": "fc88464f-1019-4a36-9f24-40cd71c05e52",
   "metadata": {},
   "outputs": [],
   "source": [
    "# save the final results to a compressed csv\n",
    "final_df.to_csv('Data/final_results_NY_pizza.csv.gz', compression='gzip',index=False)"
   ]
  }
 ],
 "metadata": {
  "kernelspec": {
   "display_name": "Python (dojo-env)",
   "language": "python",
   "name": "dojo-env"
  },
  "language_info": {
   "codemirror_mode": {
    "name": "ipython",
    "version": 3
   },
   "file_extension": ".py",
   "mimetype": "text/x-python",
   "name": "python",
   "nbconvert_exporter": "python",
   "pygments_lexer": "ipython3",
   "version": "3.10.10"
  },
  "widgets": {
   "application/vnd.jupyter.widget-state+json": {
    "state": {
     "075b615a4c684fd999bafc1bfc70329a": {
      "model_module": "@jupyter-widgets/controls",
      "model_module_version": "2.0.0",
      "model_name": "HTMLModel",
      "state": {
       "layout": "IPY_MODEL_defb699801fc457ba8aa4eba0a44720a",
       "style": "IPY_MODEL_07a2778b349a4dbdb707d0f5289306fb",
       "value": " 22/625 [00:24&lt;11:21,  1.13s/it]"
      }
     },
     "07a2778b349a4dbdb707d0f5289306fb": {
      "model_module": "@jupyter-widgets/controls",
      "model_module_version": "2.0.0",
      "model_name": "HTMLStyleModel",
      "state": {
       "description_width": "",
       "font_size": null,
       "text_color": null
      }
     },
     "07acd98a2a1e4d128e4908cd13b24f93": {
      "model_module": "@jupyter-widgets/base",
      "model_module_version": "2.0.0",
      "model_name": "LayoutModel",
      "state": {}
     },
     "17bd001b0a0d4710a7715d23dd917a0c": {
      "model_module": "@jupyter-widgets/base",
      "model_module_version": "2.0.0",
      "model_name": "LayoutModel",
      "state": {}
     },
     "2621b51124a2439b8dedcdc5c3e70d01": {
      "model_module": "@jupyter-widgets/controls",
      "model_module_version": "2.0.0",
      "model_name": "HTMLStyleModel",
      "state": {
       "description_width": "",
       "font_size": null,
       "text_color": null
      }
     },
     "5b94ae68e7f04405b2d02112c912e1bc": {
      "model_module": "@jupyter-widgets/controls",
      "model_module_version": "2.0.0",
      "model_name": "HBoxModel",
      "state": {
       "children": [
        "IPY_MODEL_b6d75313bcb743babf2a6e31e949bde8",
        "IPY_MODEL_bfa2cd6895bc4fa181ba383a8226f0e0",
        "IPY_MODEL_c111b66984ea466998f27d4ef04abae4"
       ],
       "layout": "IPY_MODEL_07acd98a2a1e4d128e4908cd13b24f93"
      }
     },
     "6ee6c002b319446b84ca4aef7c24418c": {
      "model_module": "@jupyter-widgets/controls",
      "model_module_version": "2.0.0",
      "model_name": "HTMLStyleModel",
      "state": {
       "description_width": "",
       "font_size": null,
       "text_color": null
      }
     },
     "75d73ea64ca24e5bbda4988e3d288530": {
      "model_module": "@jupyter-widgets/base",
      "model_module_version": "2.0.0",
      "model_name": "LayoutModel",
      "state": {}
     },
     "7b41b22dee554e09b48a1ffb3d7399dc": {
      "model_module": "@jupyter-widgets/controls",
      "model_module_version": "2.0.0",
      "model_name": "FloatProgressModel",
      "state": {
       "bar_style": "danger",
       "layout": "IPY_MODEL_75d73ea64ca24e5bbda4988e3d288530",
       "max": 625,
       "style": "IPY_MODEL_abe75eb796344360966873af1f32345d",
       "value": 22
      }
     },
     "80189ff562784fa6b5cb5c94fa8ff324": {
      "model_module": "@jupyter-widgets/base",
      "model_module_version": "2.0.0",
      "model_name": "LayoutModel",
      "state": {}
     },
     "8c81c562c329422c9995cc5722d196ae": {
      "model_module": "@jupyter-widgets/controls",
      "model_module_version": "2.0.0",
      "model_name": "HTMLStyleModel",
      "state": {
       "description_width": "",
       "font_size": null,
       "text_color": null
      }
     },
     "a6fde3257a014b73a5100769a9c6088e": {
      "model_module": "@jupyter-widgets/base",
      "model_module_version": "2.0.0",
      "model_name": "LayoutModel",
      "state": {}
     },
     "abe75eb796344360966873af1f32345d": {
      "model_module": "@jupyter-widgets/controls",
      "model_module_version": "2.0.0",
      "model_name": "ProgressStyleModel",
      "state": {
       "description_width": ""
      }
     },
     "b6d75313bcb743babf2a6e31e949bde8": {
      "model_module": "@jupyter-widgets/controls",
      "model_module_version": "2.0.0",
      "model_name": "HTMLModel",
      "state": {
       "layout": "IPY_MODEL_c5f128db44d94fecbd44d3e7f0fd5983",
       "style": "IPY_MODEL_6ee6c002b319446b84ca4aef7c24418c",
       "value": "100%"
      }
     },
     "bd9e24e236c743bda7095439bb2ea736": {
      "model_module": "@jupyter-widgets/controls",
      "model_module_version": "2.0.0",
      "model_name": "ProgressStyleModel",
      "state": {
       "description_width": ""
      }
     },
     "bdeddba48360428eb204cd4040a6152e": {
      "model_module": "@jupyter-widgets/controls",
      "model_module_version": "2.0.0",
      "model_name": "HBoxModel",
      "state": {
       "children": [
        "IPY_MODEL_c9c201b4c6bf4910b29ecd3e14c3b6fe",
        "IPY_MODEL_7b41b22dee554e09b48a1ffb3d7399dc",
        "IPY_MODEL_075b615a4c684fd999bafc1bfc70329a"
       ],
       "layout": "IPY_MODEL_e97ff178258b433bbf2240150864065b"
      }
     },
     "bfa2cd6895bc4fa181ba383a8226f0e0": {
      "model_module": "@jupyter-widgets/controls",
      "model_module_version": "2.0.0",
      "model_name": "FloatProgressModel",
      "state": {
       "bar_style": "success",
       "layout": "IPY_MODEL_a6fde3257a014b73a5100769a9c6088e",
       "max": 598,
       "style": "IPY_MODEL_bd9e24e236c743bda7095439bb2ea736",
       "value": 598
      }
     },
     "c111b66984ea466998f27d4ef04abae4": {
      "model_module": "@jupyter-widgets/controls",
      "model_module_version": "2.0.0",
      "model_name": "HTMLModel",
      "state": {
       "layout": "IPY_MODEL_80189ff562784fa6b5cb5c94fa8ff324",
       "style": "IPY_MODEL_8c81c562c329422c9995cc5722d196ae",
       "value": " 598/598 [02:03&lt;00:00,  4.81it/s]"
      }
     },
     "c5f128db44d94fecbd44d3e7f0fd5983": {
      "model_module": "@jupyter-widgets/base",
      "model_module_version": "2.0.0",
      "model_name": "LayoutModel",
      "state": {}
     },
     "c9c201b4c6bf4910b29ecd3e14c3b6fe": {
      "model_module": "@jupyter-widgets/controls",
      "model_module_version": "2.0.0",
      "model_name": "HTMLModel",
      "state": {
       "layout": "IPY_MODEL_17bd001b0a0d4710a7715d23dd917a0c",
       "style": "IPY_MODEL_2621b51124a2439b8dedcdc5c3e70d01",
       "value": "  4%"
      }
     },
     "defb699801fc457ba8aa4eba0a44720a": {
      "model_module": "@jupyter-widgets/base",
      "model_module_version": "2.0.0",
      "model_name": "LayoutModel",
      "state": {}
     },
     "e97ff178258b433bbf2240150864065b": {
      "model_module": "@jupyter-widgets/base",
      "model_module_version": "2.0.0",
      "model_name": "LayoutModel",
      "state": {}
     }
    },
    "version_major": 2,
    "version_minor": 0
   }
  }
 },
 "nbformat": 4,
 "nbformat_minor": 5
}
